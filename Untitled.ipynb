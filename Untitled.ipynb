{
 "cells": [
  {
   "cell_type": "code",
   "execution_count": 21,
   "id": "00cf533c-7792-4ee2-8ae0-9dddab6ee96f",
   "metadata": {},
   "outputs": [],
   "source": [
    "import numpy as np\n",
    "import pandas as pd\n",
    "from sklearn.model_selection import train_test_split\n",
    "from sklearn.preprocessing import MinMaxScaler\n",
    "from sklearn.preprocessing import StandardScaler"
   ]
  },
  {
   "cell_type": "code",
   "execution_count": 22,
   "id": "87a0dba2-a6da-4f74-9441-329005b2f094",
   "metadata": {},
   "outputs": [],
   "source": [
    "df=pd.read_csv(\"remote_work_productivity.csv\")"
   ]
  },
  {
   "cell_type": "code",
   "execution_count": 23,
   "id": "d3da088c-6388-4e21-b986-e1af041e1175",
   "metadata": {},
   "outputs": [
    {
     "name": "stdout",
     "output_type": "stream",
     "text": [
      "     Employee_ID Employment_Cond  Hours_Worked_Per_Week  Productivity_Score  \\\n",
      "0              1          Remote                     29                  75   \n",
      "1              2       In-Office                     45                  49   \n",
      "2              3          Remote                     34                  74   \n",
      "3              4          Remote                     25                  81   \n",
      "4              5          Remote                     50                  70   \n",
      "..           ...             ...                    ...                 ...   \n",
      "995          996          Remote                     33                  88   \n",
      "996          997          Remote                     33                  88   \n",
      "997          998       In-Office                     45                  74   \n",
      "998          999       In-Office                     57                  50   \n",
      "999         1000          Remote                     34                  80   \n",
      "\n",
      "     Well_Being_Score  target  Employment_Type  \n",
      "0                  78       0                0  \n",
      "1                  47       1                1  \n",
      "2                  89       0                0  \n",
      "3                  84       1                0  \n",
      "4                  74       0                0  \n",
      "..                ...     ...              ...  \n",
      "995                82       1                0  \n",
      "996                73       1                0  \n",
      "997                61       0                1  \n",
      "998                52       0                1  \n",
      "999                82       0                0  \n",
      "\n",
      "[1000 rows x 7 columns]\n"
     ]
    }
   ],
   "source": [
    "print(df)\n"
   ]
  },
  {
   "cell_type": "code",
   "execution_count": 24,
   "id": "f700c649-294e-4b66-a924-d67dc4d872f6",
   "metadata": {},
   "outputs": [
    {
     "name": "stdout",
     "output_type": "stream",
     "text": [
      "<class 'pandas.core.frame.DataFrame'>\n",
      "RangeIndex: 1000 entries, 0 to 999\n",
      "Data columns (total 7 columns):\n",
      " #   Column                 Non-Null Count  Dtype \n",
      "---  ------                 --------------  ----- \n",
      " 0   Employee_ID            1000 non-null   int64 \n",
      " 1   Employment_Cond        1000 non-null   object\n",
      " 2   Hours_Worked_Per_Week  1000 non-null   int64 \n",
      " 3   Productivity_Score     1000 non-null   int64 \n",
      " 4   Well_Being_Score       1000 non-null   int64 \n",
      " 5   target                 1000 non-null   int64 \n",
      " 6   Employment_Type        1000 non-null   int64 \n",
      "dtypes: int64(6), object(1)\n",
      "memory usage: 54.8+ KB\n",
      "None\n"
     ]
    }
   ],
   "source": [
    "print(df.info())\n",
    "   "
   ]
  },
  {
   "cell_type": "code",
   "execution_count": 25,
   "id": "ca889482-b927-4fc4-a57c-4af698e19113",
   "metadata": {},
   "outputs": [],
   "source": [
    "x=df[[\"Employee_ID\",\"Hours_Worked_Per_Week\",\"Productivity_Score\",\"Well_Being_Score\",\"Employment_Type\"]]\n",
    "y=df[\"target\"]"
   ]
  },
  {
   "cell_type": "code",
   "execution_count": 26,
   "id": "e71e3d11-54a1-4a98-a01b-368a0a8daa6c",
   "metadata": {},
   "outputs": [],
   "source": [
    "X_train,X_test,y_train,y_test = train_test_split(x,y,test_size=0.2,random_state=42)\n",
    "\n",
    "X_train_n = X_train.copy()\n",
    "X_test_n = X_test.copy()\n",
    "norm = MinMaxScaler().fit(X_train_n)\n",
    "normt = MinMaxScaler().fit(X_test_n)\n"
   ]
  },
  {
   "cell_type": "code",
   "execution_count": 27,
   "id": "4b20cc13-8f62-4d81-837f-e87f20a4d427",
   "metadata": {},
   "outputs": [],
   "source": [
    "X_train_norm = norm.transform(X_train_n)\n",
    "X_test_norm = normt.transform(X_test_n)\n",
    "X_test_norm_df = pd.DataFrame(X_test_norm)\n",
    "X_train_norm_df = pd.DataFrame(X_train_norm)\n",
    "X_test_norm_df.columns = X_test_n.columns\n",
    "X_train_norm_df.columns = X_train_n.columns\n",
    "X_train_norm_df.describe()\n",
    "\n",
    "data=X_train_norm_df.to_csv('remote_work_productivity_train.csv',header=True,index=False)\n",
    "data_2=X_test_norm_df.to_csv('remote_work_productivity_test.csv',header=True,index=False)"
   ]
  },
  {
   "cell_type": "code",
   "execution_count": null,
   "id": "2a9377c6-93ba-4c3f-9b24-ec10d6b33066",
   "metadata": {},
   "outputs": [],
   "source": []
  }
 ],
 "metadata": {
  "kernelspec": {
   "display_name": "Python 3 (ipykernel)",
   "language": "python",
   "name": "python3"
  },
  "language_info": {
   "codemirror_mode": {
    "name": "ipython",
    "version": 3
   },
   "file_extension": ".py",
   "mimetype": "text/x-python",
   "name": "python",
   "nbconvert_exporter": "python",
   "pygments_lexer": "ipython3",
   "version": "3.12.2"
  }
 },
 "nbformat": 4,
 "nbformat_minor": 5
}
